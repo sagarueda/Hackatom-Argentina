{
 "cells": [
  {
   "cell_type": "code",
   "execution_count": 1,
   "metadata": {
    "collapsed": true
   },
   "outputs": [],
   "source": [
    "# for some basic operations\n",
    "import numpy as np\n",
    "import pandas as pd\n",
    "\n",
    "from scipy.stats import norm\n",
    "\n",
    "# for visualizations\n",
    "import matplotlib.pyplot as plt\n",
    "import seaborn as sns\n",
    "#import plotly.express as px\n",
    "\n",
    "\n",
    "#Preprocesamiento\n",
    "from sklearn.preprocessing import LabelEncoder\n",
    "# creating an encoder\n",
    "le = LabelEncoder()\n",
    "\n",
    "# for providing path\n",
    "import os\n",
    "#print(os.listdir())\n"
   ]
  },
  {
   "cell_type": "code",
   "execution_count": 2,
   "metadata": {
    "collapsed": false
   },
   "outputs": [
    {
     "name": "stdout",
     "output_type": "stream",
     "text": [
      "['.android', '.asterstudy', '.astkrc', '.CATPreferredHosts', '.config', '.gitconfig', '.ipynb_checkpoints', '.ipython', '.jupyter', '.matplotlib', '.oracle_jre_usage', '.spyder-py3', '.VirtualBox', '.vivaldi_reporting_data', '3D Objects', 'Anaconda3', 'ansel', 'AppData', 'Application Data', 'CATSettings', 'Como Usar los ponderadores python - by Fran.ipynb', 'Configuración local', 'Contacts', 'Cookies', 'data1800.gnuplot', 'Datos de programa', 'Desktop', 'Documents', 'Downloads', 'Entorno de red', 'Favorites', 'fightcade-debug.log', 'fightcade.log', 'flasheur', 'Games', 'ggpo-ng.ini', 'ggpofba-ng.bkp.ini', 'Google Drive', 'Hackaton ArgXedu.ipynb', 'Impresoras', 'inittk.ini', 'inst.ini', 'IntelGraphicsProfiles', 'Links', 'maxima', 'maxout1800.gnuplot', 'maxout8068.gnuplot', 'Menú Inicio', 'MicrosoftEdgeBackups', 'Mis documentos', 'Music', 'Nox_share', 'NTUSER.DAT', 'ntuser.dat.LOG1', 'ntuser.dat.LOG2', 'NTUSER.DAT{9f72d1ce-8095-11e9-ab67-cd6a19c4e983}.TM.blf', 'NTUSER.DAT{9f72d1ce-8095-11e9-ab67-cd6a19c4e983}.TMContainer00000000000000000001.regtrans-ms', 'NTUSER.DAT{9f72d1ce-8095-11e9-ab67-cd6a19c4e983}.TMContainer00000000000000000002.regtrans-ms', 'ntuser.ini', 'nuuid.ini', 'OneDrive', 'Pictures', 'Plantillas', 'Reciente', 'Saved Games', 'Searches', 'SendTo', 'source', 'Videos', 'VirtualBox VMs', 'vmlogs']\n"
     ]
    }
   ],
   "source": [
    "print(os.listdir())"
   ]
  },
  {
   "cell_type": "code",
   "execution_count": 3,
   "metadata": {
    "collapsed": true
   },
   "outputs": [],
   "source": [
    "# change the current directory \n",
    "# to specified directory \n",
    "os.chdir(r\"G:\\OneDrive\\Cursos\\Hackaton\")"
   ]
  },
  {
   "cell_type": "code",
   "execution_count": 4,
   "metadata": {
    "collapsed": false,
    "scrolled": true
   },
   "outputs": [
    {
     "name": "stdout",
     "output_type": "stream",
     "text": [
      "['CAMINO SEGUIDO AL BORRAR TODOS LOS MISS.docx', 'CAMINO SEGUIDO AL BORRAR TODOS LOS MISS.pdf', 'Como Usar los ponderadores python - by Fran.ipynb', 'csv_files_app_alumno.csv', 'Hackaton.py', 'Hackaton_v2.py', 'Hackaton_v2_reforzado.py', 'Hackaton_v3.py', 'Hackaton_v4.py', 'Manual STATA.pdf', 'Referencia', 'testLabel.py']\n"
     ]
    }
   ],
   "source": [
    "print(os.listdir())"
   ]
  },
  {
   "cell_type": "code",
   "execution_count": 5,
   "metadata": {
    "collapsed": false
   },
   "outputs": [
    {
     "name": "stderr",
     "output_type": "stream",
     "text": [
      "C:\\Users\\alexa\\Anaconda3\\lib\\site-packages\\IPython\\core\\interactiveshell.py:2717: DtypeWarning: Columns (2,3,4,5,6) have mixed types. Specify dtype option on import or set low_memory=False.\n",
      "  interactivity=interactivity, compiler=compiler, result=result)\n"
     ]
    }
   ],
   "source": [
    "data = pd.read_csv('csv_files_app_alumno.csv')"
   ]
  },
  {
   "cell_type": "code",
   "execution_count": 6,
   "metadata": {
    "collapsed": false
   },
   "outputs": [
    {
     "data": {
      "text/html": [
       "<div>\n",
       "<style>\n",
       "    .dataframe thead tr:only-child th {\n",
       "        text-align: right;\n",
       "    }\n",
       "\n",
       "    .dataframe thead th {\n",
       "        text-align: left;\n",
       "    }\n",
       "\n",
       "    .dataframe tbody tr th {\n",
       "        vertical-align: top;\n",
       "    }\n",
       "</style>\n",
       "<table border=\"1\" class=\"dataframe\">\n",
       "  <thead>\n",
       "    <tr style=\"text-align: right;\">\n",
       "      <th></th>\n",
       "      <th>id</th>\n",
       "      <th>sexo</th>\n",
       "      <th>indice_socioeconomico</th>\n",
       "      <th>nivel_desemp_matematica</th>\n",
       "      <th>nivel_desemp_lengua</th>\n",
       "      <th>nivel_desemp_ciencias_sociales</th>\n",
       "      <th>nivel_desemp_ciencias_naturales</th>\n",
       "      <th>ponderador_lengua</th>\n",
       "      <th>ponderador_matematica</th>\n",
       "      <th>ponderador_ciencias_naturales</th>\n",
       "      <th>...</th>\n",
       "      <th>tiene_smartphone</th>\n",
       "      <th>tiene_consola</th>\n",
       "      <th>tiene_smarttv</th>\n",
       "      <th>tiene_cable</th>\n",
       "      <th>tiene_internet</th>\n",
       "      <th>repeticion_primaria</th>\n",
       "      <th>repeticion_secundaria</th>\n",
       "      <th>escuela_id</th>\n",
       "      <th>nivel_id</th>\n",
       "      <th>year_id</th>\n",
       "    </tr>\n",
       "  </thead>\n",
       "  <tbody>\n",
       "    <tr>\n",
       "      <th>0</th>\n",
       "      <td>1</td>\n",
       "      <td>nc</td>\n",
       "      <td>NaN</td>\n",
       "      <td>satisfactorio</td>\n",
       "      <td>nc</td>\n",
       "      <td>satisfactorio</td>\n",
       "      <td>satisfactorio</td>\n",
       "      <td>-1.00000</td>\n",
       "      <td>35.920963</td>\n",
       "      <td>42.752556</td>\n",
       "      <td>...</td>\n",
       "      <td>nc</td>\n",
       "      <td>nc</td>\n",
       "      <td>nc</td>\n",
       "      <td>nc</td>\n",
       "      <td>nc</td>\n",
       "      <td>nc</td>\n",
       "      <td>nc</td>\n",
       "      <td>120240006</td>\n",
       "      <td>2</td>\n",
       "      <td>2013</td>\n",
       "    </tr>\n",
       "    <tr>\n",
       "      <th>1</th>\n",
       "      <td>2</td>\n",
       "      <td>nc</td>\n",
       "      <td>NaN</td>\n",
       "      <td>satisfactorio</td>\n",
       "      <td>nc</td>\n",
       "      <td>satisfactorio</td>\n",
       "      <td>nc</td>\n",
       "      <td>-1.00000</td>\n",
       "      <td>35.920963</td>\n",
       "      <td>-1.000000</td>\n",
       "      <td>...</td>\n",
       "      <td>nc</td>\n",
       "      <td>nc</td>\n",
       "      <td>nc</td>\n",
       "      <td>nc</td>\n",
       "      <td>nc</td>\n",
       "      <td>nc</td>\n",
       "      <td>nc</td>\n",
       "      <td>180540909</td>\n",
       "      <td>2</td>\n",
       "      <td>2013</td>\n",
       "    </tr>\n",
       "    <tr>\n",
       "      <th>2</th>\n",
       "      <td>3</td>\n",
       "      <td>nc</td>\n",
       "      <td>NaN</td>\n",
       "      <td>satisfactorio</td>\n",
       "      <td>basico</td>\n",
       "      <td>nc</td>\n",
       "      <td>nc</td>\n",
       "      <td>33.28981</td>\n",
       "      <td>35.920963</td>\n",
       "      <td>-1.000000</td>\n",
       "      <td>...</td>\n",
       "      <td>nc</td>\n",
       "      <td>nc</td>\n",
       "      <td>nc</td>\n",
       "      <td>nc</td>\n",
       "      <td>nc</td>\n",
       "      <td>nc</td>\n",
       "      <td>nc</td>\n",
       "      <td>220168311</td>\n",
       "      <td>2</td>\n",
       "      <td>2013</td>\n",
       "    </tr>\n",
       "    <tr>\n",
       "      <th>3</th>\n",
       "      <td>4</td>\n",
       "      <td>nc</td>\n",
       "      <td>NaN</td>\n",
       "      <td>avanzado</td>\n",
       "      <td>avanzado</td>\n",
       "      <td>satisfactorio</td>\n",
       "      <td>satisfactorio</td>\n",
       "      <td>33.28981</td>\n",
       "      <td>35.920963</td>\n",
       "      <td>42.752556</td>\n",
       "      <td>...</td>\n",
       "      <td>nc</td>\n",
       "      <td>nc</td>\n",
       "      <td>nc</td>\n",
       "      <td>nc</td>\n",
       "      <td>nc</td>\n",
       "      <td>nc</td>\n",
       "      <td>nc</td>\n",
       "      <td>240757212</td>\n",
       "      <td>2</td>\n",
       "      <td>2013</td>\n",
       "    </tr>\n",
       "    <tr>\n",
       "      <th>4</th>\n",
       "      <td>5</td>\n",
       "      <td>nc</td>\n",
       "      <td>NaN</td>\n",
       "      <td>basico</td>\n",
       "      <td>satisfactorio</td>\n",
       "      <td>nc</td>\n",
       "      <td>basico</td>\n",
       "      <td>33.28981</td>\n",
       "      <td>35.920963</td>\n",
       "      <td>42.752556</td>\n",
       "      <td>...</td>\n",
       "      <td>nc</td>\n",
       "      <td>nc</td>\n",
       "      <td>nc</td>\n",
       "      <td>nc</td>\n",
       "      <td>nc</td>\n",
       "      <td>nc</td>\n",
       "      <td>nc</td>\n",
       "      <td>262003313</td>\n",
       "      <td>2</td>\n",
       "      <td>2013</td>\n",
       "    </tr>\n",
       "  </tbody>\n",
       "</table>\n",
       "<p>5 rows × 25 columns</p>\n",
       "</div>"
      ],
      "text/plain": [
       "   id sexo indice_socioeconomico nivel_desemp_matematica nivel_desemp_lengua  \\\n",
       "0   1   nc                   NaN           satisfactorio                  nc   \n",
       "1   2   nc                   NaN           satisfactorio                  nc   \n",
       "2   3   nc                   NaN           satisfactorio              basico   \n",
       "3   4   nc                   NaN                avanzado            avanzado   \n",
       "4   5   nc                   NaN                  basico       satisfactorio   \n",
       "\n",
       "  nivel_desemp_ciencias_sociales nivel_desemp_ciencias_naturales  \\\n",
       "0                  satisfactorio                   satisfactorio   \n",
       "1                  satisfactorio                              nc   \n",
       "2                             nc                              nc   \n",
       "3                  satisfactorio                   satisfactorio   \n",
       "4                             nc                          basico   \n",
       "\n",
       "   ponderador_lengua  ponderador_matematica  ponderador_ciencias_naturales  \\\n",
       "0           -1.00000              35.920963                      42.752556   \n",
       "1           -1.00000              35.920963                      -1.000000   \n",
       "2           33.28981              35.920963                      -1.000000   \n",
       "3           33.28981              35.920963                      42.752556   \n",
       "4           33.28981              35.920963                      42.752556   \n",
       "\n",
       "    ...    tiene_smartphone tiene_consola tiene_smarttv tiene_cable  \\\n",
       "0   ...                  nc            nc            nc          nc   \n",
       "1   ...                  nc            nc            nc          nc   \n",
       "2   ...                  nc            nc            nc          nc   \n",
       "3   ...                  nc            nc            nc          nc   \n",
       "4   ...                  nc            nc            nc          nc   \n",
       "\n",
       "  tiene_internet repeticion_primaria repeticion_secundaria escuela_id  \\\n",
       "0             nc                  nc                    nc  120240006   \n",
       "1             nc                  nc                    nc  180540909   \n",
       "2             nc                  nc                    nc  220168311   \n",
       "3             nc                  nc                    nc  240757212   \n",
       "4             nc                  nc                    nc  262003313   \n",
       "\n",
       "  nivel_id year_id  \n",
       "0        2    2013  \n",
       "1        2    2013  \n",
       "2        2    2013  \n",
       "3        2    2013  \n",
       "4        2    2013  \n",
       "\n",
       "[5 rows x 25 columns]"
      ]
     },
     "execution_count": 6,
     "metadata": {},
     "output_type": "execute_result"
    }
   ],
   "source": [
    "data.head()"
   ]
  },
  {
   "cell_type": "code",
   "execution_count": 7,
   "metadata": {
    "collapsed": false
   },
   "outputs": [
    {
     "data": {
      "text/html": [
       "<div>\n",
       "<style>\n",
       "    .dataframe thead tr:only-child th {\n",
       "        text-align: right;\n",
       "    }\n",
       "\n",
       "    .dataframe thead th {\n",
       "        text-align: left;\n",
       "    }\n",
       "\n",
       "    .dataframe tbody tr th {\n",
       "        vertical-align: top;\n",
       "    }\n",
       "</style>\n",
       "<table border=\"1\" class=\"dataframe\">\n",
       "  <thead>\n",
       "    <tr style=\"text-align: right;\">\n",
       "      <th></th>\n",
       "      <th>id</th>\n",
       "      <th>ponderador_lengua</th>\n",
       "      <th>ponderador_matematica</th>\n",
       "      <th>ponderador_ciencias_naturales</th>\n",
       "      <th>ponderador_ciencias_sociales</th>\n",
       "      <th>escuela_id</th>\n",
       "      <th>nivel_id</th>\n",
       "      <th>year_id</th>\n",
       "    </tr>\n",
       "  </thead>\n",
       "  <tbody>\n",
       "    <tr>\n",
       "      <th>count</th>\n",
       "      <td>1.835710e+06</td>\n",
       "      <td>1.696377e+06</td>\n",
       "      <td>1.726680e+06</td>\n",
       "      <td>1.732310e+06</td>\n",
       "      <td>1.756376e+06</td>\n",
       "      <td>1.835710e+06</td>\n",
       "      <td>1.835710e+06</td>\n",
       "      <td>1.835710e+06</td>\n",
       "    </tr>\n",
       "    <tr>\n",
       "      <th>mean</th>\n",
       "      <td>9.178555e+05</td>\n",
       "      <td>1.031906e+00</td>\n",
       "      <td>1.004982e+00</td>\n",
       "      <td>8.996754e-01</td>\n",
       "      <td>9.123590e-01</td>\n",
       "      <td>7.098804e+09</td>\n",
       "      <td>2.372548e+00</td>\n",
       "      <td>2.015702e+03</td>\n",
       "    </tr>\n",
       "    <tr>\n",
       "      <th>std</th>\n",
       "      <td>5.299240e+05</td>\n",
       "      <td>4.482136e+00</td>\n",
       "      <td>4.633515e+00</td>\n",
       "      <td>4.440036e+00</td>\n",
       "      <td>4.367103e+00</td>\n",
       "      <td>7.627225e+09</td>\n",
       "      <td>4.834834e-01</td>\n",
       "      <td>1.431061e+00</td>\n",
       "    </tr>\n",
       "    <tr>\n",
       "      <th>min</th>\n",
       "      <td>1.000000e+00</td>\n",
       "      <td>-1.000000e+00</td>\n",
       "      <td>-1.000000e+00</td>\n",
       "      <td>-1.000000e+00</td>\n",
       "      <td>-1.000000e+00</td>\n",
       "      <td>6.000030e+07</td>\n",
       "      <td>2.000000e+00</td>\n",
       "      <td>2.013000e+03</td>\n",
       "    </tr>\n",
       "    <tr>\n",
       "      <th>25%</th>\n",
       "      <td>4.589282e+05</td>\n",
       "      <td>-1.000000e+00</td>\n",
       "      <td>-1.000000e+00</td>\n",
       "      <td>-1.000000e+00</td>\n",
       "      <td>-1.000000e+00</td>\n",
       "      <td>1.467454e+09</td>\n",
       "      <td>2.000000e+00</td>\n",
       "      <td>2.016000e+03</td>\n",
       "    </tr>\n",
       "    <tr>\n",
       "      <th>50%</th>\n",
       "      <td>9.178555e+05</td>\n",
       "      <td>1.119620e+00</td>\n",
       "      <td>1.098848e+00</td>\n",
       "      <td>1.078306e+00</td>\n",
       "      <td>1.085212e+00</td>\n",
       "      <td>3.085839e+09</td>\n",
       "      <td>2.000000e+00</td>\n",
       "      <td>2.016000e+03</td>\n",
       "    </tr>\n",
       "    <tr>\n",
       "      <th>75%</th>\n",
       "      <td>1.376783e+06</td>\n",
       "      <td>1.442554e+00</td>\n",
       "      <td>1.468137e+00</td>\n",
       "      <td>1.420758e+00</td>\n",
       "      <td>1.414500e+00</td>\n",
       "      <td>1.188092e+10</td>\n",
       "      <td>3.000000e+00</td>\n",
       "      <td>2.017000e+03</td>\n",
       "    </tr>\n",
       "    <tr>\n",
       "      <th>max</th>\n",
       "      <td>1.835710e+06</td>\n",
       "      <td>1.097849e+02</td>\n",
       "      <td>1.244528e+02</td>\n",
       "      <td>9.870000e+02</td>\n",
       "      <td>1.027756e+02</td>\n",
       "      <td>3.526857e+10</td>\n",
       "      <td>3.000000e+00</td>\n",
       "      <td>2.017000e+03</td>\n",
       "    </tr>\n",
       "  </tbody>\n",
       "</table>\n",
       "</div>"
      ],
      "text/plain": [
       "                 id  ponderador_lengua  ponderador_matematica  \\\n",
       "count  1.835710e+06       1.696377e+06           1.726680e+06   \n",
       "mean   9.178555e+05       1.031906e+00           1.004982e+00   \n",
       "std    5.299240e+05       4.482136e+00           4.633515e+00   \n",
       "min    1.000000e+00      -1.000000e+00          -1.000000e+00   \n",
       "25%    4.589282e+05      -1.000000e+00          -1.000000e+00   \n",
       "50%    9.178555e+05       1.119620e+00           1.098848e+00   \n",
       "75%    1.376783e+06       1.442554e+00           1.468137e+00   \n",
       "max    1.835710e+06       1.097849e+02           1.244528e+02   \n",
       "\n",
       "       ponderador_ciencias_naturales  ponderador_ciencias_sociales  \\\n",
       "count                   1.732310e+06                  1.756376e+06   \n",
       "mean                    8.996754e-01                  9.123590e-01   \n",
       "std                     4.440036e+00                  4.367103e+00   \n",
       "min                    -1.000000e+00                 -1.000000e+00   \n",
       "25%                    -1.000000e+00                 -1.000000e+00   \n",
       "50%                     1.078306e+00                  1.085212e+00   \n",
       "75%                     1.420758e+00                  1.414500e+00   \n",
       "max                     9.870000e+02                  1.027756e+02   \n",
       "\n",
       "         escuela_id      nivel_id       year_id  \n",
       "count  1.835710e+06  1.835710e+06  1.835710e+06  \n",
       "mean   7.098804e+09  2.372548e+00  2.015702e+03  \n",
       "std    7.627225e+09  4.834834e-01  1.431061e+00  \n",
       "min    6.000030e+07  2.000000e+00  2.013000e+03  \n",
       "25%    1.467454e+09  2.000000e+00  2.016000e+03  \n",
       "50%    3.085839e+09  2.000000e+00  2.016000e+03  \n",
       "75%    1.188092e+10  3.000000e+00  2.017000e+03  \n",
       "max    3.526857e+10  3.000000e+00  2.017000e+03  "
      ]
     },
     "execution_count": 7,
     "metadata": {},
     "output_type": "execute_result"
    }
   ],
   "source": [
    "data.describe()"
   ]
  },
  {
   "cell_type": "code",
   "execution_count": 8,
   "metadata": {
    "collapsed": false
   },
   "outputs": [
    {
     "data": {
      "text/plain": [
       "id                                 1835710\n",
       "sexo                                     3\n",
       "indice_socioeconomico                    4\n",
       "nivel_desemp_matematica                  5\n",
       "nivel_desemp_lengua                      5\n",
       "nivel_desemp_ciencias_sociales           5\n",
       "nivel_desemp_ciencias_naturales          5\n",
       "ponderador_lengua                    25641\n",
       "ponderador_matematica                25056\n",
       "ponderador_ciencias_naturales        19549\n",
       "ponderador_ciencias_sociales         18896\n",
       "tiene_notebook                           3\n",
       "tiene_pc                                 3\n",
       "tiene_tablet                             3\n",
       "tiene_celular                            3\n",
       "tiene_smartphone                         3\n",
       "tiene_consola                            3\n",
       "tiene_smarttv                            3\n",
       "tiene_cable                              3\n",
       "tiene_internet                           3\n",
       "repeticion_primaria                      5\n",
       "repeticion_secundaria                    5\n",
       "escuela_id                           30098\n",
       "nivel_id                                 2\n",
       "year_id                                  3\n",
       "dtype: int64"
      ]
     },
     "execution_count": 8,
     "metadata": {},
     "output_type": "execute_result"
    }
   ],
   "source": [
    "#Tipos diferentes de datos\n",
    "data.nunique()"
   ]
  },
  {
   "cell_type": "markdown",
   "metadata": {},
   "source": [
    "** Analizando la cantidad de datos perdidos **"
   ]
  },
  {
   "cell_type": "code",
   "execution_count": 9,
   "metadata": {
    "collapsed": false
   },
   "outputs": [
    {
     "name": "stdout",
     "output_type": "stream",
     "text": [
      "Porcentaje de datos perdidos: \n",
      "id                                 0.000000\n",
      "sexo                               0.000000\n",
      "indice_socioeconomico              0.202941\n",
      "nivel_desemp_matematica            0.294102\n",
      "nivel_desemp_lengua                0.294102\n",
      "nivel_desemp_ciencias_sociales     0.322324\n",
      "nivel_desemp_ciencias_naturales    0.322324\n",
      "ponderador_lengua                  0.075901\n",
      "ponderador_matematica              0.059394\n",
      "ponderador_ciencias_naturales      0.056327\n",
      "ponderador_ciencias_sociales       0.043217\n",
      "tiene_notebook                     0.000000\n",
      "tiene_pc                           0.000000\n",
      "tiene_tablet                       0.000000\n",
      "tiene_celular                      0.000000\n",
      "tiene_smartphone                   0.000000\n",
      "tiene_consola                      0.000000\n",
      "tiene_smarttv                      0.000000\n",
      "tiene_cable                        0.000000\n",
      "tiene_internet                     0.000000\n",
      "repeticion_primaria                0.000000\n",
      "repeticion_secundaria              0.000000\n",
      "escuela_id                         0.000000\n",
      "nivel_id                           0.000000\n",
      "year_id                            0.000000\n",
      "dtype: float64\n"
     ]
    }
   ],
   "source": [
    "# Encontrando la cantidad de datos perdidos que hay en los graficos\n",
    "\n",
    "no_of_columns = data.shape[0]\n",
    "percentage_of_missing_data = data.isnull().sum()/no_of_columns\n",
    "\n",
    "print(\"Porcentaje de datos perdidos: \")\n",
    "print(percentage_of_missing_data)\n"
   ]
  },
  {
   "cell_type": "code",
   "execution_count": 10,
   "metadata": {
    "collapsed": false
   },
   "outputs": [
    {
     "data": {
      "image/png": "[encoded data removed]",
      "text/plain": [
       "<matplotlib.figure.Figure at 0x23e9b395780>"
      ]
     },
     "metadata": {},
     "output_type": "display_data"
    }
   ],
   "source": [
    "#Probando como realizar un grafico \n",
    "plt.figure()\n",
    "plt.title('Histograma del ponderador de ciencias naturales')\n",
    "plt.xlabel('Ponderador')\n",
    "plt.ylabel('Frecuencia')\n",
    "data.ponderador_ciencias_naturales.plot.hist(bins=20)\n",
    "plt.show()"
   ]
  },
  {
   "cell_type": "markdown",
   "metadata": {},
   "source": [
    "### Pasando las variables categoricas"
   ]
  },
  {
   "cell_type": "code",
   "execution_count": 11,
   "metadata": {
    "collapsed": true
   },
   "outputs": [],
   "source": [
    "#Pasando las variables categoricas a numero 0 o 1\n",
    "df_nivel= pd.get_dummies( data[data.keys()[3:7]] , dummy_na=True )\n",
    "\n",
    "#Asegurando que los datos sean flotantes\n",
    "df_nivel = df_nivel.astype(float)\n"
   ]
  },
  {
   "cell_type": "code",
   "execution_count": 12,
   "metadata": {
    "collapsed": false
   },
   "outputs": [
    {
     "name": "stdout",
     "output_type": "stream",
     "text": [
      "Porcentaje de datos perdidos: \n",
      "nivel_desemp_matematica_avanzado                         0.0\n",
      "nivel_desemp_matematica_basico                           0.0\n",
      "nivel_desemp_matematica_nc                               0.0\n",
      "nivel_desemp_matematica_por_debajo_del_basico            0.0\n",
      "nivel_desemp_matematica_satisfactorio                    0.0\n",
      "nivel_desemp_matematica_nan                              0.0\n",
      "nivel_desemp_lengua_avanzado                             0.0\n",
      "nivel_desemp_lengua_basico                               0.0\n",
      "nivel_desemp_lengua_nc                                   0.0\n",
      "nivel_desemp_lengua_por_debajo_del_basico                0.0\n",
      "nivel_desemp_lengua_satisfactorio                        0.0\n",
      "nivel_desemp_lengua_nan                                  0.0\n",
      "nivel_desemp_ciencias_sociales_avanzado                  0.0\n",
      "nivel_desemp_ciencias_sociales_basico                    0.0\n",
      "nivel_desemp_ciencias_sociales_nc                        0.0\n",
      "nivel_desemp_ciencias_sociales_por_debajo_del_basico     0.0\n",
      "nivel_desemp_ciencias_sociales_satisfactorio             0.0\n",
      "nivel_desemp_ciencias_sociales_nan                       0.0\n",
      "nivel_desemp_ciencias_naturales_avanzado                 0.0\n",
      "nivel_desemp_ciencias_naturales_basico                   0.0\n",
      "nivel_desemp_ciencias_naturales_nc                       0.0\n",
      "nivel_desemp_ciencias_naturales_por_debajo_del_basico    0.0\n",
      "nivel_desemp_ciencias_naturales_satisfactorio            0.0\n",
      "nivel_desemp_ciencias_naturales_nan                      0.0\n",
      "dtype: float64\n"
     ]
    }
   ],
   "source": [
    "percentage_of_missing_data = df_nivel.isnull().sum() / df_nivel.shape[0]\n",
    "print(\"Porcentaje de datos perdidos: \")\n",
    "print(percentage_of_missing_data)"
   ]
  },
  {
   "cell_type": "code",
   "execution_count": 13,
   "metadata": {
    "collapsed": false
   },
   "outputs": [
    {
     "data": {
      "text/plain": [
       "Index(['nivel_desemp_matematica_avanzado', 'nivel_desemp_matematica_basico',\n",
       "       'nivel_desemp_matematica_nc',\n",
       "       'nivel_desemp_matematica_por_debajo_del_basico',\n",
       "       'nivel_desemp_matematica_satisfactorio', 'nivel_desemp_matematica_nan',\n",
       "       'nivel_desemp_lengua_avanzado', 'nivel_desemp_lengua_basico',\n",
       "       'nivel_desemp_lengua_nc', 'nivel_desemp_lengua_por_debajo_del_basico',\n",
       "       'nivel_desemp_lengua_satisfactorio', 'nivel_desemp_lengua_nan',\n",
       "       'nivel_desemp_ciencias_sociales_avanzado',\n",
       "       'nivel_desemp_ciencias_sociales_basico',\n",
       "       'nivel_desemp_ciencias_sociales_nc',\n",
       "       'nivel_desemp_ciencias_sociales_por_debajo_del_basico',\n",
       "       'nivel_desemp_ciencias_sociales_satisfactorio',\n",
       "       'nivel_desemp_ciencias_sociales_nan',\n",
       "       'nivel_desemp_ciencias_naturales_avanzado',\n",
       "       'nivel_desemp_ciencias_naturales_basico',\n",
       "       'nivel_desemp_ciencias_naturales_nc',\n",
       "       'nivel_desemp_ciencias_naturales_por_debajo_del_basico',\n",
       "       'nivel_desemp_ciencias_naturales_satisfactorio',\n",
       "       'nivel_desemp_ciencias_naturales_nan'],\n",
       "      dtype='object')"
      ]
     },
     "execution_count": 13,
     "metadata": {},
     "output_type": "execute_result"
    }
   ],
   "source": [
    "df_nivel.keys()"
   ]
  },
  {
   "cell_type": "markdown",
   "metadata": {},
   "source": [
    "# Juntar las columnas Dummy con el DF"
   ]
  },
  {
   "cell_type": "code",
   "execution_count": 14,
   "metadata": {
    "collapsed": true
   },
   "outputs": [],
   "source": [
    "data = data.join(df_nivel, how='left')"
   ]
  },
  {
   "cell_type": "code",
   "execution_count": 15,
   "metadata": {
    "collapsed": false,
    "scrolled": true
   },
   "outputs": [
    {
     "data": {
      "text/plain": [
       "Index(['id', 'sexo', 'indice_socioeconomico', 'nivel_desemp_matematica',\n",
       "       'nivel_desemp_lengua', 'nivel_desemp_ciencias_sociales',\n",
       "       'nivel_desemp_ciencias_naturales', 'ponderador_lengua',\n",
       "       'ponderador_matematica', 'ponderador_ciencias_naturales',\n",
       "       'ponderador_ciencias_sociales', 'tiene_notebook', 'tiene_pc',\n",
       "       'tiene_tablet', 'tiene_celular', 'tiene_smartphone', 'tiene_consola',\n",
       "       'tiene_smarttv', 'tiene_cable', 'tiene_internet', 'repeticion_primaria',\n",
       "       'repeticion_secundaria', 'escuela_id', 'nivel_id', 'year_id',\n",
       "       'nivel_desemp_matematica_avanzado', 'nivel_desemp_matematica_basico',\n",
       "       'nivel_desemp_matematica_nc',\n",
       "       'nivel_desemp_matematica_por_debajo_del_basico',\n",
       "       'nivel_desemp_matematica_satisfactorio', 'nivel_desemp_matematica_nan',\n",
       "       'nivel_desemp_lengua_avanzado', 'nivel_desemp_lengua_basico',\n",
       "       'nivel_desemp_lengua_nc', 'nivel_desemp_lengua_por_debajo_del_basico',\n",
       "       'nivel_desemp_lengua_satisfactorio', 'nivel_desemp_lengua_nan',\n",
       "       'nivel_desemp_ciencias_sociales_avanzado',\n",
       "       'nivel_desemp_ciencias_sociales_basico',\n",
       "       'nivel_desemp_ciencias_sociales_nc',\n",
       "       'nivel_desemp_ciencias_sociales_por_debajo_del_basico',\n",
       "       'nivel_desemp_ciencias_sociales_satisfactorio',\n",
       "       'nivel_desemp_ciencias_sociales_nan',\n",
       "       'nivel_desemp_ciencias_naturales_avanzado',\n",
       "       'nivel_desemp_ciencias_naturales_basico',\n",
       "       'nivel_desemp_ciencias_naturales_nc',\n",
       "       'nivel_desemp_ciencias_naturales_por_debajo_del_basico',\n",
       "       'nivel_desemp_ciencias_naturales_satisfactorio',\n",
       "       'nivel_desemp_ciencias_naturales_nan'],\n",
       "      dtype='object')"
      ]
     },
     "execution_count": 15,
     "metadata": {},
     "output_type": "execute_result"
    }
   ],
   "source": [
    "data.keys()"
   ]
  },
  {
   "cell_type": "markdown",
   "metadata": {},
   "source": [
    "** Drop Nivel y como solucion temporal tambien dropeo Indice socieconomico que tiene muchos missValue **"
   ]
  },
  {
   "cell_type": "code",
   "execution_count": 16,
   "metadata": {
    "collapsed": false
   },
   "outputs": [
    {
     "data": {
      "text/html": [
       "<div>\n",
       "<style>\n",
       "    .dataframe thead tr:only-child th {\n",
       "        text-align: right;\n",
       "    }\n",
       "\n",
       "    .dataframe thead th {\n",
       "        text-align: left;\n",
       "    }\n",
       "\n",
       "    .dataframe tbody tr th {\n",
       "        vertical-align: top;\n",
       "    }\n",
       "</style>\n",
       "<table border=\"1\" class=\"dataframe\">\n",
       "  <thead>\n",
       "    <tr style=\"text-align: right;\">\n",
       "      <th></th>\n",
       "      <th>id</th>\n",
       "      <th>sexo</th>\n",
       "      <th>ponderador_lengua</th>\n",
       "      <th>ponderador_matematica</th>\n",
       "      <th>ponderador_ciencias_naturales</th>\n",
       "      <th>ponderador_ciencias_sociales</th>\n",
       "      <th>tiene_notebook</th>\n",
       "      <th>tiene_pc</th>\n",
       "      <th>tiene_tablet</th>\n",
       "      <th>tiene_celular</th>\n",
       "      <th>...</th>\n",
       "      <th>nivel_desemp_ciencias_sociales_nc</th>\n",
       "      <th>nivel_desemp_ciencias_sociales_por_debajo_del_basico</th>\n",
       "      <th>nivel_desemp_ciencias_sociales_satisfactorio</th>\n",
       "      <th>nivel_desemp_ciencias_sociales_nan</th>\n",
       "      <th>nivel_desemp_ciencias_naturales_avanzado</th>\n",
       "      <th>nivel_desemp_ciencias_naturales_basico</th>\n",
       "      <th>nivel_desemp_ciencias_naturales_nc</th>\n",
       "      <th>nivel_desemp_ciencias_naturales_por_debajo_del_basico</th>\n",
       "      <th>nivel_desemp_ciencias_naturales_satisfactorio</th>\n",
       "      <th>nivel_desemp_ciencias_naturales_nan</th>\n",
       "    </tr>\n",
       "  </thead>\n",
       "  <tbody>\n",
       "    <tr>\n",
       "      <th>0</th>\n",
       "      <td>1</td>\n",
       "      <td>nc</td>\n",
       "      <td>-1.00000</td>\n",
       "      <td>35.920963</td>\n",
       "      <td>42.752556</td>\n",
       "      <td>39.370998</td>\n",
       "      <td>nc</td>\n",
       "      <td>nc</td>\n",
       "      <td>nc</td>\n",
       "      <td>nc</td>\n",
       "      <td>...</td>\n",
       "      <td>0.0</td>\n",
       "      <td>0.0</td>\n",
       "      <td>1.0</td>\n",
       "      <td>0.0</td>\n",
       "      <td>0.0</td>\n",
       "      <td>0.0</td>\n",
       "      <td>0.0</td>\n",
       "      <td>0.0</td>\n",
       "      <td>1.0</td>\n",
       "      <td>0.0</td>\n",
       "    </tr>\n",
       "    <tr>\n",
       "      <th>1</th>\n",
       "      <td>2</td>\n",
       "      <td>nc</td>\n",
       "      <td>-1.00000</td>\n",
       "      <td>35.920963</td>\n",
       "      <td>-1.000000</td>\n",
       "      <td>39.370998</td>\n",
       "      <td>nc</td>\n",
       "      <td>nc</td>\n",
       "      <td>nc</td>\n",
       "      <td>nc</td>\n",
       "      <td>...</td>\n",
       "      <td>0.0</td>\n",
       "      <td>0.0</td>\n",
       "      <td>1.0</td>\n",
       "      <td>0.0</td>\n",
       "      <td>0.0</td>\n",
       "      <td>0.0</td>\n",
       "      <td>1.0</td>\n",
       "      <td>0.0</td>\n",
       "      <td>0.0</td>\n",
       "      <td>0.0</td>\n",
       "    </tr>\n",
       "    <tr>\n",
       "      <th>2</th>\n",
       "      <td>3</td>\n",
       "      <td>nc</td>\n",
       "      <td>33.28981</td>\n",
       "      <td>35.920963</td>\n",
       "      <td>-1.000000</td>\n",
       "      <td>-1.000000</td>\n",
       "      <td>nc</td>\n",
       "      <td>nc</td>\n",
       "      <td>nc</td>\n",
       "      <td>nc</td>\n",
       "      <td>...</td>\n",
       "      <td>1.0</td>\n",
       "      <td>0.0</td>\n",
       "      <td>0.0</td>\n",
       "      <td>0.0</td>\n",
       "      <td>0.0</td>\n",
       "      <td>0.0</td>\n",
       "      <td>1.0</td>\n",
       "      <td>0.0</td>\n",
       "      <td>0.0</td>\n",
       "      <td>0.0</td>\n",
       "    </tr>\n",
       "    <tr>\n",
       "      <th>3</th>\n",
       "      <td>4</td>\n",
       "      <td>nc</td>\n",
       "      <td>33.28981</td>\n",
       "      <td>35.920963</td>\n",
       "      <td>42.752556</td>\n",
       "      <td>39.370998</td>\n",
       "      <td>nc</td>\n",
       "      <td>nc</td>\n",
       "      <td>nc</td>\n",
       "      <td>nc</td>\n",
       "      <td>...</td>\n",
       "      <td>0.0</td>\n",
       "      <td>0.0</td>\n",
       "      <td>1.0</td>\n",
       "      <td>0.0</td>\n",
       "      <td>0.0</td>\n",
       "      <td>0.0</td>\n",
       "      <td>0.0</td>\n",
       "      <td>0.0</td>\n",
       "      <td>1.0</td>\n",
       "      <td>0.0</td>\n",
       "    </tr>\n",
       "    <tr>\n",
       "      <th>4</th>\n",
       "      <td>5</td>\n",
       "      <td>nc</td>\n",
       "      <td>33.28981</td>\n",
       "      <td>35.920963</td>\n",
       "      <td>42.752556</td>\n",
       "      <td>-1.000000</td>\n",
       "      <td>nc</td>\n",
       "      <td>nc</td>\n",
       "      <td>nc</td>\n",
       "      <td>nc</td>\n",
       "      <td>...</td>\n",
       "      <td>1.0</td>\n",
       "      <td>0.0</td>\n",
       "      <td>0.0</td>\n",
       "      <td>0.0</td>\n",
       "      <td>0.0</td>\n",
       "      <td>1.0</td>\n",
       "      <td>0.0</td>\n",
       "      <td>0.0</td>\n",
       "      <td>0.0</td>\n",
       "      <td>0.0</td>\n",
       "    </tr>\n",
       "  </tbody>\n",
       "</table>\n",
       "<p>5 rows × 44 columns</p>\n",
       "</div>"
      ],
      "text/plain": [
       "   id sexo  ponderador_lengua  ponderador_matematica  \\\n",
       "0   1   nc           -1.00000              35.920963   \n",
       "1   2   nc           -1.00000              35.920963   \n",
       "2   3   nc           33.28981              35.920963   \n",
       "3   4   nc           33.28981              35.920963   \n",
       "4   5   nc           33.28981              35.920963   \n",
       "\n",
       "   ponderador_ciencias_naturales  ponderador_ciencias_sociales tiene_notebook  \\\n",
       "0                      42.752556                     39.370998             nc   \n",
       "1                      -1.000000                     39.370998             nc   \n",
       "2                      -1.000000                     -1.000000             nc   \n",
       "3                      42.752556                     39.370998             nc   \n",
       "4                      42.752556                     -1.000000             nc   \n",
       "\n",
       "  tiene_pc tiene_tablet tiene_celular                 ...                   \\\n",
       "0       nc           nc            nc                 ...                    \n",
       "1       nc           nc            nc                 ...                    \n",
       "2       nc           nc            nc                 ...                    \n",
       "3       nc           nc            nc                 ...                    \n",
       "4       nc           nc            nc                 ...                    \n",
       "\n",
       "  nivel_desemp_ciencias_sociales_nc  \\\n",
       "0                               0.0   \n",
       "1                               0.0   \n",
       "2                               1.0   \n",
       "3                               0.0   \n",
       "4                               1.0   \n",
       "\n",
       "  nivel_desemp_ciencias_sociales_por_debajo_del_basico  \\\n",
       "0                                                0.0     \n",
       "1                                                0.0     \n",
       "2                                                0.0     \n",
       "3                                                0.0     \n",
       "4                                                0.0     \n",
       "\n",
       "  nivel_desemp_ciencias_sociales_satisfactorio  \\\n",
       "0                                          1.0   \n",
       "1                                          1.0   \n",
       "2                                          0.0   \n",
       "3                                          1.0   \n",
       "4                                          0.0   \n",
       "\n",
       "  nivel_desemp_ciencias_sociales_nan nivel_desemp_ciencias_naturales_avanzado  \\\n",
       "0                                0.0                                      0.0   \n",
       "1                                0.0                                      0.0   \n",
       "2                                0.0                                      0.0   \n",
       "3                                0.0                                      0.0   \n",
       "4                                0.0                                      0.0   \n",
       "\n",
       "  nivel_desemp_ciencias_naturales_basico nivel_desemp_ciencias_naturales_nc  \\\n",
       "0                                    0.0                                0.0   \n",
       "1                                    0.0                                1.0   \n",
       "2                                    0.0                                1.0   \n",
       "3                                    0.0                                0.0   \n",
       "4                                    1.0                                0.0   \n",
       "\n",
       "   nivel_desemp_ciencias_naturales_por_debajo_del_basico  \\\n",
       "0                                                0.0       \n",
       "1                                                0.0       \n",
       "2                                                0.0       \n",
       "3                                                0.0       \n",
       "4                                                0.0       \n",
       "\n",
       "   nivel_desemp_ciencias_naturales_satisfactorio  \\\n",
       "0                                            1.0   \n",
       "1                                            0.0   \n",
       "2                                            0.0   \n",
       "3                                            1.0   \n",
       "4                                            0.0   \n",
       "\n",
       "   nivel_desemp_ciencias_naturales_nan  \n",
       "0                                  0.0  \n",
       "1                                  0.0  \n",
       "2                                  0.0  \n",
       "3                                  0.0  \n",
       "4                                  0.0  \n",
       "\n",
       "[5 rows x 44 columns]"
      ]
     },
     "execution_count": 16,
     "metadata": {},
     "output_type": "execute_result"
    }
   ],
   "source": [
    "df_test=data.drop( data.keys()[2:7] , axis=1)\n",
    "df_test.head()"
   ]
  },
  {
   "cell_type": "code",
   "execution_count": 17,
   "metadata": {
    "collapsed": false
   },
   "outputs": [
    {
     "name": "stdout",
     "output_type": "stream",
     "text": [
      "Porcentaje de datos perdidos: \n",
      "id                                                       0.000000\n",
      "sexo                                                     0.000000\n",
      "ponderador_lengua                                        0.075901\n",
      "ponderador_matematica                                    0.059394\n",
      "ponderador_ciencias_naturales                            0.056327\n",
      "ponderador_ciencias_sociales                             0.043217\n",
      "tiene_notebook                                           0.000000\n",
      "tiene_pc                                                 0.000000\n",
      "tiene_tablet                                             0.000000\n",
      "tiene_celular                                            0.000000\n",
      "tiene_smartphone                                         0.000000\n",
      "tiene_consola                                            0.000000\n",
      "tiene_smarttv                                            0.000000\n",
      "tiene_cable                                              0.000000\n",
      "tiene_internet                                           0.000000\n",
      "repeticion_primaria                                      0.000000\n",
      "repeticion_secundaria                                    0.000000\n",
      "escuela_id                                               0.000000\n",
      "nivel_id                                                 0.000000\n",
      "year_id                                                  0.000000\n",
      "nivel_desemp_matematica_avanzado                         0.000000\n",
      "nivel_desemp_matematica_basico                           0.000000\n",
      "nivel_desemp_matematica_nc                               0.000000\n",
      "nivel_desemp_matematica_por_debajo_del_basico            0.000000\n",
      "nivel_desemp_matematica_satisfactorio                    0.000000\n",
      "nivel_desemp_matematica_nan                              0.000000\n",
      "nivel_desemp_lengua_avanzado                             0.000000\n",
      "nivel_desemp_lengua_basico                               0.000000\n",
      "nivel_desemp_lengua_nc                                   0.000000\n",
      "nivel_desemp_lengua_por_debajo_del_basico                0.000000\n",
      "nivel_desemp_lengua_satisfactorio                        0.000000\n",
      "nivel_desemp_lengua_nan                                  0.000000\n",
      "nivel_desemp_ciencias_sociales_avanzado                  0.000000\n",
      "nivel_desemp_ciencias_sociales_basico                    0.000000\n",
      "nivel_desemp_ciencias_sociales_nc                        0.000000\n",
      "nivel_desemp_ciencias_sociales_por_debajo_del_basico     0.000000\n",
      "nivel_desemp_ciencias_sociales_satisfactorio             0.000000\n",
      "nivel_desemp_ciencias_sociales_nan                       0.000000\n",
      "nivel_desemp_ciencias_naturales_avanzado                 0.000000\n",
      "nivel_desemp_ciencias_naturales_basico                   0.000000\n",
      "nivel_desemp_ciencias_naturales_nc                       0.000000\n",
      "nivel_desemp_ciencias_naturales_por_debajo_del_basico    0.000000\n",
      "nivel_desemp_ciencias_naturales_satisfactorio            0.000000\n",
      "nivel_desemp_ciencias_naturales_nan                      0.000000\n",
      "dtype: float64\n"
     ]
    }
   ],
   "source": [
    "percentage_of_missing_data = df_test.isnull().sum() / df_test.shape[0]\n",
    "print(\"Porcentaje de datos perdidos: \")\n",
    "print(percentage_of_missing_data)"
   ]
  },
  {
   "cell_type": "markdown",
   "metadata": {},
   "source": [
    "** Dropna **"
   ]
  },
  {
   "cell_type": "code",
   "execution_count": 18,
   "metadata": {
    "collapsed": false
   },
   "outputs": [
    {
     "name": "stdout",
     "output_type": "stream",
     "text": [
      "Tamaño original  1835710\n",
      "Tamaño reducido  1588558\n"
     ]
    }
   ],
   "source": [
    "df_t2 = df_test.dropna()\n",
    "print( \"Tamaño original \", df_test.shape[0] )\n",
    "print( \"Tamaño reducido \", df_t2.shape[0] )\n",
    "\n",
    "\n"
   ]
  },
  {
   "cell_type": "code",
   "execution_count": 19,
   "metadata": {
    "collapsed": true
   },
   "outputs": [],
   "source": [
    "#df_t3[df_t2.keys()[20:26]] = np.array( df_t2[ ['nivel_desemp_matematica_avanzado', 'nivel_desemp_matematica_basico','nivel_desemp_matematica_nc',        'nivel_desemp_matematica_por_debajo_del_basico','nivel_desemp_matematica_satisfactorio', 'nivel_desemp_matematica_nan'] ] ) * np.array ( df_t2 [ ['ponderador_matematica'] ])"
   ]
  },
  {
   "cell_type": "code",
   "execution_count": 20,
   "metadata": {
    "collapsed": true
   },
   "outputs": [],
   "source": [
    "#df_t2.keys()[20:26]\n"
   ]
  },
  {
   "cell_type": "markdown",
   "metadata": {},
   "source": [
    "** Como me trave con lo de hacerlo en un solo DF.. sigo con este que venia fenomeno **"
   ]
  },
  {
   "cell_type": "code",
   "execution_count": 21,
   "metadata": {
    "collapsed": true
   },
   "outputs": [],
   "source": [
    "#Asegurando que los datos sean flotantes\n",
    "df_nivel = df_nivel.astype(float)\n",
    "\n",
    "\n",
    "#Ponderamos los valores matematica utilizando np.array para el calculo\n",
    "df_nivel [ ['nivel_desemp_matematica_avanzado', 'nivel_desemp_matematica_basico','nivel_desemp_matematica_nc','nivel_desemp_matematica_por_debajo_del_basico',\n",
    "       'nivel_desemp_matematica_satisfactorio', 'nivel_desemp_matematica_nan'] ] = np.array( df_nivel[ ['nivel_desemp_matematica_avanzado', 'nivel_desemp_matematica_basico','nivel_desemp_matematica_nc',\n",
    "       'nivel_desemp_matematica_por_debajo_del_basico','nivel_desemp_matematica_satisfactorio', 'nivel_desemp_matematica_nan'] ] ) * np.array ( data [ ['ponderador_matematica'] ])\n"
   ]
  },
  {
   "cell_type": "code",
   "execution_count": 22,
   "metadata": {
    "collapsed": true
   },
   "outputs": [],
   "source": [
    "#Ponderamos los valores lengua utilizando np.array para el calculo\n",
    "df_nivel[ ['nivel_desemp_lengua_avanzado', 'nivel_desemp_lengua_basico',\n",
    "       'nivel_desemp_lengua_nc', 'nivel_desemp_lengua_por_debajo_del_basico',\n",
    "       'nivel_desemp_lengua_satisfactorio', 'nivel_desemp_lengua_nan'] ] = np.array( df_nivel[ ['nivel_desemp_lengua_avanzado', 'nivel_desemp_lengua_basico',\n",
    "       'nivel_desemp_lengua_nc', 'nivel_desemp_lengua_por_debajo_del_basico',\n",
    "       'nivel_desemp_lengua_satisfactorio', 'nivel_desemp_lengua_nan'] ] ) * np.array ( data [ ['ponderador_lengua'] ])"
   ]
  },
  {
   "cell_type": "markdown",
   "metadata": {},
   "source": [
    "Al finalizar habria que ejecutar dropna para borrar todos lo que no tenian ponderadoes, por ende no se puede comparar\n",
    "df_nivel.dropna()"
   ]
  },
  {
   "cell_type": "markdown",
   "metadata": {},
   "source": [
    "Habria que ir agregando a este df lo que se quiera comparar y trabajar aca.. porque hacerlo todo en el otro esta tirando error"
   ]
  },
  {
   "cell_type": "code",
   "execution_count": null,
   "metadata": {
    "collapsed": true
   },
   "outputs": [],
   "source": []
  }
 ],
 "metadata": {
  "kernelspec": {
   "display_name": "Python 3",
   "language": "python",
   "name": "python3"
  },
  "language_info": {
   "codemirror_mode": {
    "name": "ipython",
    "version": 3
   },
   "file_extension": ".py",
   "mimetype": "text/x-python",
   "name": "python",
   "nbconvert_exporter": "python",
   "pygments_lexer": "ipython3",
   "version": "3.6.0"
  }
 },
 "nbformat": 4,
 "nbformat_minor": 2
}
